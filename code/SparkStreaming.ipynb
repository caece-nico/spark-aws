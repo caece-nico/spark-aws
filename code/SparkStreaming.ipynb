{
 "cells": [
  {
   "cell_type": "markdown",
   "metadata": {},
   "source": [
    "# DataStreaming\n",
    "## with PySpark"
   ]
  },
  {
   "cell_type": "code",
   "execution_count": 10,
   "metadata": {},
   "outputs": [],
   "source": [
    "from pyspark.streaming import StreamingContext\n",
    "from pyspark import SparkConf, SparkContext"
   ]
  },
  {
   "cell_type": "code",
   "execution_count": 11,
   "metadata": {},
   "outputs": [],
   "source": [
    "conf = SparkConf().setAppName(\"StreamingApp\")\n",
    "sc = SparkContext.getOrCreate(conf=conf)"
   ]
  },
  {
   "cell_type": "code",
   "execution_count": 12,
   "metadata": {},
   "outputs": [],
   "source": [
    "ssc = StreamingContext(sc, 1)"
   ]
  },
  {
   "cell_type": "code",
   "execution_count": 13,
   "metadata": {},
   "outputs": [],
   "source": [
    "rdd = ssc.textFileStream(\"/mnt/d/Proyectos/Tutorial-SparkAWS/streaming_data/\")"
   ]
  },
  {
   "cell_type": "code",
   "execution_count": null,
   "metadata": {},
   "outputs": [],
   "source": [
    "rdd = rdd.map(lambda x: (x,1))\n",
    "rdd = rdd.reduceByKey(lambda x,y: x+y)\n",
    "\n",
    "rdd.pprint()\n",
    "ssc.start()\n",
    "ssc.awaitTerminationOrTimeout(100)"
   ]
  },
  {
   "cell_type": "markdown",
   "metadata": {},
   "source": [
    "## Creacion de Streaming con DF"
   ]
  },
  {
   "cell_type": "code",
   "execution_count": 14,
   "metadata": {},
   "outputs": [],
   "source": [
    "from pyspark.sql import SparkSession"
   ]
  },
  {
   "cell_type": "code",
   "execution_count": 30,
   "metadata": {},
   "outputs": [],
   "source": [
    "spark = SparkSession.builder.appName('streamingDF').getOrCreate()\n",
    "word = spark.readStream.text(\"/mnt/d/Proyectos/Tutorial-SparkAWS/streaming_data/\")\n",
    "#word.writeStream.format(\"console\").outputMode(\"update\").start()\n",
    "word = word.groupBy(\"value\").count()\n"
   ]
  },
  {
   "cell_type": "code",
   "execution_count": 32,
   "metadata": {},
   "outputs": [
    {
     "name": "stdout",
     "output_type": "stream",
     "text": [
      "24/04/01 22:14:15 WARN ResolveWriteToStream: Temporary checkpoint location created which is deleted normally when the query didn't fail: /tmp/temporary-ba49bbe8-726e-4b0c-873e-e883e0538952. If it's required to delete it under any circumstances, please set spark.sql.streaming.forceDeleteTempCheckpointLocation to true. Important to know deleting temp checkpoint folder is best effort.\n",
      "24/04/01 22:14:15 WARN ResolveWriteToStream: spark.sql.adaptive.enabled is not supported in streaming DataFrames/Datasets and will be disabled.\n"
     ]
    },
    {
     "data": {
      "text/plain": [
       "<pyspark.sql.streaming.StreamingQuery at 0x7f0c7c5b81f0>"
      ]
     },
     "execution_count": 32,
     "metadata": {},
     "output_type": "execute_result"
    },
    {
     "name": "stderr",
     "output_type": "stream",
     "text": [
      "                                                                                \r"
     ]
    },
    {
     "name": "stdout",
     "output_type": "stream",
     "text": [
      "-------------------------------------------\n",
      "Batch: 0\n",
      "-------------------------------------------\n",
      "+-------------+-----+\n",
      "|        value|count|\n",
      "+-------------+-----+\n",
      "|          Mic|   10|\n",
      "|       Ramiro|    7|\n",
      "| silvinaleali|    1|\n",
      "|        leali|    1|\n",
      "|      ejemplo|    1|\n",
      "|    mostrara?|    1|\n",
      "|        Chair|   15|\n",
      "| nicolasleali|    3|\n",
      "|       Martin|    2|\n",
      "|         Book|    5|\n",
      "|NUevo ejemplo|    1|\n",
      "|    ejemplito|    3|\n",
      "|      Nicolas|    3|\n",
      "|       Laptop|    5|\n",
      "|    Ejemplito|    1|\n",
      "|          Bag|    5|\n",
      "| Otro ejemplo|    1|\n",
      "|       Mobile|    5|\n",
      "|        Apple|   10|\n",
      "|       ramiro|    9|\n",
      "+-------------+-----+\n",
      "only showing top 20 rows\n",
      "\n"
     ]
    }
   ],
   "source": [
    "word.writeStream.format(\"console\").outputMode(\"complete\").start()"
   ]
  }
 ],
 "metadata": {
  "kernelspec": {
   "display_name": "Python 3",
   "language": "python",
   "name": "python3"
  },
  "language_info": {
   "codemirror_mode": {
    "name": "ipython",
    "version": 3
   },
   "file_extension": ".py",
   "mimetype": "text/x-python",
   "name": "python",
   "nbconvert_exporter": "python",
   "pygments_lexer": "ipython3",
   "version": "3.10.12"
  }
 },
 "nbformat": 4,
 "nbformat_minor": 2
}
